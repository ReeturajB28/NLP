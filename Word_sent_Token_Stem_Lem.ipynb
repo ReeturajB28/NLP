{
  "nbformat": 4,
  "nbformat_minor": 0,
  "metadata": {
    "colab": {
      "provenance": []
    },
    "kernelspec": {
      "name": "python3",
      "display_name": "Python 3"
    },
    "language_info": {
      "name": "python"
    }
  },
  "cells": [
    {
      "cell_type": "code",
      "execution_count": null,
      "metadata": {
        "colab": {
          "base_uri": "https://localhost:8080/"
        },
        "id": "j1ODD73vdx8Z",
        "outputId": "6d54737a-17ad-4b40-c052-447e5ba41137"
      },
      "outputs": [
        {
          "output_type": "stream",
          "name": "stdout",
          "text": [
            "Requirement already satisfied: nltk in /usr/local/lib/python3.10/dist-packages (3.8.1)\n",
            "Requirement already satisfied: click in /usr/local/lib/python3.10/dist-packages (from nltk) (8.1.7)\n",
            "Requirement already satisfied: joblib in /usr/local/lib/python3.10/dist-packages (from nltk) (1.4.2)\n",
            "Requirement already satisfied: regex>=2021.8.3 in /usr/local/lib/python3.10/dist-packages (from nltk) (2024.5.15)\n",
            "Requirement already satisfied: tqdm in /usr/local/lib/python3.10/dist-packages (from nltk) (4.66.4)\n"
          ]
        }
      ],
      "source": [
        "!pip install nltk"
      ]
    },
    {
      "cell_type": "code",
      "source": [
        "import nltk\n",
        "nltk.download('punkt')"
      ],
      "metadata": {
        "colab": {
          "base_uri": "https://localhost:8080/"
        },
        "id": "qc8TZkZId9rD",
        "outputId": "49eda295-5036-47f7-dcd0-1587da72ea7c"
      },
      "execution_count": null,
      "outputs": [
        {
          "output_type": "stream",
          "name": "stderr",
          "text": [
            "[nltk_data] Downloading package punkt to /root/nltk_data...\n",
            "[nltk_data]   Unzipping tokenizers/punkt.zip.\n"
          ]
        },
        {
          "output_type": "execute_result",
          "data": {
            "text/plain": [
              "True"
            ]
          },
          "metadata": {},
          "execution_count": 1
        }
      ]
    },
    {
      "cell_type": "code",
      "source": [
        "from nltk.tokenize import sent_tokenize\n",
        "from nltk.tokenize import word_tokenize\n",
        "from nltk.tokenize import wordpunct_tokenize"
      ],
      "metadata": {
        "id": "jJuazqTkeII2"
      },
      "execution_count": null,
      "outputs": []
    },
    {
      "cell_type": "code",
      "source": [
        "corpus=\"\"\"I am learning Machine Learning. I have enrolled in multiple @ LMS.\n",
        "Great Learning, Physics Wallah!!. I think I am half way through there.\n",
        "I need to focus on DL, particularly CNN. I hope I can transition into a new role soon.\n",
        "\"\"\""
      ],
      "metadata": {
        "id": "IXZVDxdA7iSh"
      },
      "execution_count": null,
      "outputs": []
    },
    {
      "cell_type": "code",
      "source": [
        "sentences_document=sent_tokenize(corpus)\n",
        "sentences_document"
      ],
      "metadata": {
        "colab": {
          "base_uri": "https://localhost:8080/"
        },
        "id": "KJjV0bd98gYC",
        "outputId": "d7dd7b12-c3b9-479c-e4e7-69e2fc2d936f"
      },
      "execution_count": null,
      "outputs": [
        {
          "output_type": "execute_result",
          "data": {
            "text/plain": [
              "['I am learning Machine Learning.',\n",
              " 'I have enrolled in multiple @ LMS.',\n",
              " 'Great Learning, Physics Wallah!!.',\n",
              " 'I think I am half way through there.',\n",
              " 'I need to focus on DL, particularly CNN.',\n",
              " 'I hope I can transition into a new role soon.']"
            ]
          },
          "metadata": {},
          "execution_count": 4
        }
      ]
    },
    {
      "cell_type": "code",
      "source": [
        "words_in_sentences=[]\n",
        "for i in sentences_document:\n",
        "  words_in_sentences.append(word_tokenize(i))\n",
        "words_in_sentences"
      ],
      "metadata": {
        "colab": {
          "base_uri": "https://localhost:8080/"
        },
        "id": "AWiI62gr8vrd",
        "outputId": "3e4fb99a-9f9b-4d99-e47c-9a707fc5b986"
      },
      "execution_count": null,
      "outputs": [
        {
          "output_type": "execute_result",
          "data": {
            "text/plain": [
              "[['I', 'am', 'learning', 'Machine', 'Learning', '.'],\n",
              " ['I', 'have', 'enrolled', 'in', 'multiple', '@', 'LMS', '.'],\n",
              " ['Great', 'Learning', ',', 'Physics', 'Wallah', '!', '!', '.'],\n",
              " ['I', 'think', 'I', 'am', 'half', 'way', 'through', 'there', '.'],\n",
              " ['I', 'need', 'to', 'focus', 'on', 'DL', ',', 'particularly', 'CNN', '.'],\n",
              " ['I',\n",
              "  'hope',\n",
              "  'I',\n",
              "  'can',\n",
              "  'transition',\n",
              "  'into',\n",
              "  'a',\n",
              "  'new',\n",
              "  'role',\n",
              "  'soon',\n",
              "  '.']]"
            ]
          },
          "metadata": {},
          "execution_count": 7
        }
      ]
    },
    {
      "cell_type": "code",
      "source": [
        "words_in_sentences=[]\n",
        "for i in sentences_document:\n",
        "  words_in_sentences.append(wordpunct_tokenize(i))\n",
        "words_in_sentences"
      ],
      "metadata": {
        "colab": {
          "base_uri": "https://localhost:8080/"
        },
        "id": "adBBprDR9tGR",
        "outputId": "85601688-14c0-4b09-b2b0-ef956ebfd3ef"
      },
      "execution_count": null,
      "outputs": [
        {
          "output_type": "execute_result",
          "data": {
            "text/plain": [
              "[['I', 'am', 'learning', 'Machine', 'Learning', '.'],\n",
              " ['I', 'have', 'enrolled', 'in', 'multiple', '@', 'LMS', '.'],\n",
              " ['Great', 'Learning', ',', 'Physics', 'Wallah', '!!.'],\n",
              " ['I', 'think', 'I', 'am', 'half', 'way', 'through', 'there', '.'],\n",
              " ['I', 'need', 'to', 'focus', 'on', 'DL', ',', 'particularly', 'CNN', '.'],\n",
              " ['I',\n",
              "  'hope',\n",
              "  'I',\n",
              "  'can',\n",
              "  'transition',\n",
              "  'into',\n",
              "  'a',\n",
              "  'new',\n",
              "  'role',\n",
              "  'soon',\n",
              "  '.']]"
            ]
          },
          "metadata": {},
          "execution_count": 8
        }
      ]
    },
    {
      "cell_type": "code",
      "source": [
        "corpus=\"\"\"Dhoni made his international debut in 2004. His talent with the bat came to the fore in an innings of 148 runs against Pakistan in his fifth international match.\n",
        " Within a year he joined the India Test team, where he quickly established himself with a century (100 or more runs in a single innings) against Pakistan.\n",
        " Despite his inexperience, Dhoni took over the captaincy of the one-day side in 2007 and led India to the Twenty20 (T20) world title.\n",
        "  Series wins over Australia and Sri Lanka, among others, moved India to the top of the International Cricket Council (ICC) Test rankings for the first time in December 2009.\n",
        "  Dhoni was honoured for his play with the ICC One Day International Player of the Year Award in 2008 and 2009.\n",
        "  In the 2011 one-day World Cup, Dhoni’s dashing innings of 91 not out—in front of a home crowd in Mumbai—paved the way for India’s victory over Sri Lanka in the final.\n",
        "   He also led India to an appearance in the semifinals of the 2015 Cricket World Cup.\n",
        "   Dhoni stopped serving as India’s captain in 2017, having led his country in 331 international matches, the most for a captain in the sport’s history.\n",
        "   Three years later he retired from international competition.\n",
        "\"\"\""
      ],
      "metadata": {
        "id": "qMZASGFpBc8c"
      },
      "execution_count": null,
      "outputs": []
    },
    {
      "cell_type": "code",
      "source": [
        "import nltk\n",
        "nltk.download('punkt')\n",
        "from nltk.tokenize import sent_tokenize\n",
        "sentences=sent_tokenize(corpus)\n",
        "sentences"
      ],
      "metadata": {
        "colab": {
          "base_uri": "https://localhost:8080/"
        },
        "id": "wYQXS4ALB21Y",
        "outputId": "4beb6d7a-1ad4-48e6-9b00-3997369dbfd5"
      },
      "execution_count": null,
      "outputs": [
        {
          "output_type": "stream",
          "name": "stderr",
          "text": [
            "[nltk_data] Downloading package punkt to /root/nltk_data...\n",
            "[nltk_data]   Unzipping tokenizers/punkt.zip.\n"
          ]
        },
        {
          "output_type": "execute_result",
          "data": {
            "text/plain": [
              "['Dhoni made his international debut in 2004.',\n",
              " 'His talent with the bat came to the fore in an innings of 148 runs against Pakistan in his fifth international match.',\n",
              " 'Within a year he joined the India Test team, where he quickly established himself with a century (100 or more runs in a single innings) against Pakistan.',\n",
              " 'Despite his inexperience, Dhoni took over the captaincy of the one-day side in 2007 and led India to the Twenty20 (T20) world title.',\n",
              " 'Series wins over Australia and Sri Lanka, among others, moved India to the top of the International Cricket Council (ICC) Test rankings for the first time in December 2009.',\n",
              " 'Dhoni was honoured for his play with the ICC One Day International Player of the Year Award in 2008 and 2009.',\n",
              " 'In the 2011 one-day World Cup, Dhoni’s dashing innings of 91 not out—in front of a home crowd in Mumbai—paved the way for India’s victory over Sri Lanka in the final.',\n",
              " 'He also led India to an appearance in the semifinals of the 2015 Cricket World Cup.',\n",
              " 'Dhoni stopped serving as India’s captain in 2017, having led his country in 331 international matches, the most for a captain in the sport’s history.',\n",
              " 'Three years later he retired from international competition.']"
            ]
          },
          "metadata": {},
          "execution_count": 7
        }
      ]
    },
    {
      "cell_type": "code",
      "source": [
        "nltk.download('stopwords')"
      ],
      "metadata": {
        "colab": {
          "base_uri": "https://localhost:8080/"
        },
        "id": "cvYDu_OnD2fO",
        "outputId": "aa5c2488-bb17-45bc-ef28-75fe9e12b9bd"
      },
      "execution_count": null,
      "outputs": [
        {
          "output_type": "stream",
          "name": "stderr",
          "text": [
            "[nltk_data] Downloading package stopwords to /root/nltk_data...\n",
            "[nltk_data]   Unzipping corpora/stopwords.zip.\n"
          ]
        },
        {
          "output_type": "execute_result",
          "data": {
            "text/plain": [
              "True"
            ]
          },
          "metadata": {},
          "execution_count": 8
        }
      ]
    },
    {
      "cell_type": "code",
      "source": [
        "nltk.download('wordnet')"
      ],
      "metadata": {
        "colab": {
          "base_uri": "https://localhost:8080/"
        },
        "id": "sCoZQ5lbEUqo",
        "outputId": "8dfc2552-60a6-45c0-8567-146002112286"
      },
      "execution_count": null,
      "outputs": [
        {
          "output_type": "stream",
          "name": "stderr",
          "text": [
            "[nltk_data] Downloading package wordnet to /root/nltk_data...\n"
          ]
        },
        {
          "output_type": "execute_result",
          "data": {
            "text/plain": [
              "True"
            ]
          },
          "metadata": {},
          "execution_count": 9
        }
      ]
    },
    {
      "cell_type": "code",
      "source": [
        "from nltk.tokenize import word_tokenize\n",
        "from nltk.stem import PorterStemmer\n",
        "stemmer=PorterStemmer()\n",
        "for i in range(len(sentences)):\n",
        "  words=word_tokenize(sentences[i])\n",
        "  words=[stemmer.stem(word) for word in words if word not in set(nltk.corpus.stopwords.words('english'))]\n",
        "  sentences[i]=' '.join(words)\n",
        "sentences\n"
      ],
      "metadata": {
        "colab": {
          "base_uri": "https://localhost:8080/"
        },
        "id": "OXDx7MVfEbkk",
        "outputId": "78923460-9ed7-4638-d40c-05ec5107218e"
      },
      "execution_count": null,
      "outputs": [
        {
          "output_type": "execute_result",
          "data": {
            "text/plain": [
              "['dhoni made intern debut 2004 .',\n",
              " 'hi talent bat came fore inning 148 run pakistan fifth intern match .',\n",
              " 'within year join india test team , quickli establish centuri ( 100 run singl inning ) pakistan .',\n",
              " 'despit inexperi , dhoni took captainci one-day side 2007 led india twenty20 ( t20 ) world titl .',\n",
              " 'seri win australia sri lanka , among other , move india top intern cricket council ( icc ) test rank first time decemb 2009 .',\n",
              " 'dhoni honour play icc one day intern player year award 2008 2009 .',\n",
              " 'in 2011 one-day world cup , dhoni ’ dash inning 91 out—in front home crowd mumbai—pav way india ’ victori sri lanka final .',\n",
              " 'he also led india appear semifin 2015 cricket world cup .',\n",
              " 'dhoni stop serv india ’ captain 2017 , led countri 331 intern match , captain sport ’ histori .',\n",
              " 'three year later retir intern competit .']"
            ]
          },
          "metadata": {},
          "execution_count": 10
        }
      ]
    },
    {
      "cell_type": "code",
      "source": [
        "from nltk.tokenize import word_tokenize\n",
        "from nltk.stem import WordNetLemmatizer\n",
        "sent_lem=[]\n",
        "lemtzr=WordNetLemmatizer()\n",
        "for i in range(len(sentences)):\n",
        "  words=word_tokenize(sentences[i])\n",
        "  words=[lemtzr.lemmatize(word) for word in words if word not in set(nltk.corpus.stopwords.words('english'))]\n",
        "  sent_lem.append(' '.join(words))\n",
        "sent_lem"
      ],
      "metadata": {
        "colab": {
          "base_uri": "https://localhost:8080/"
        },
        "id": "nnS7QS5qFppE",
        "outputId": "9bc8207b-1f85-417b-8ce3-118003230ba1"
      },
      "execution_count": null,
      "outputs": [
        {
          "output_type": "execute_result",
          "data": {
            "text/plain": [
              "['dhoni made intern debut 2004 .',\n",
              " 'hi talent bat came fore inning 148 run pakistan fifth intern match .',\n",
              " 'within year join india test team , quickli establish centuri ( 100 run singl inning ) pakistan .',\n",
              " 'despit inexperi , dhoni took captainci one-day side 2007 led india twenty20 ( t20 ) world titl .',\n",
              " 'seri win australia sri lanka , among , move india top intern cricket council ( icc ) test rank first time decemb 2009 .',\n",
              " 'dhoni honour play icc one day intern player year award 2008 2009 .',\n",
              " '2011 one-day world cup , dhoni ’ dash inning 91 out—in front home crowd mumbai—pav way india ’ victori sri lanka final .',\n",
              " 'also led india appear semifin 2015 cricket world cup .',\n",
              " 'dhoni stop serv india ’ captain 2017 , led countri 331 intern match , captain sport ’ histori .',\n",
              " 'three year later retir intern competit .']"
            ]
          },
          "metadata": {},
          "execution_count": 14
        }
      ]
    },
    {
      "cell_type": "code",
      "source": [],
      "metadata": {
        "id": "ECs7EOHrWVPE"
      },
      "execution_count": null,
      "outputs": []
    }
  ]
}